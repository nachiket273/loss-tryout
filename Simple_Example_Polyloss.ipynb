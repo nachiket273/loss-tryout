{
 "cells": [
  {
   "cell_type": "code",
   "execution_count": 1,
   "id": "513e0058",
   "metadata": {},
   "outputs": [],
   "source": [
    "from polyloss import PolyLoss, PolyFocalLoss"
   ]
  },
  {
   "cell_type": "code",
   "execution_count": 2,
   "id": "4149ae84",
   "metadata": {},
   "outputs": [],
   "source": [
    "from math import pow"
   ]
  },
  {
   "cell_type": "code",
   "execution_count": 3,
   "id": "2d9508d9",
   "metadata": {},
   "outputs": [],
   "source": [
    "itern = 1000"
   ]
  },
  {
   "cell_type": "code",
   "execution_count": 4,
   "id": "b8503cae",
   "metadata": {},
   "outputs": [],
   "source": [
    "def crossentropyloss(prob):\n",
    "    loss = 0.0\n",
    "    for i in range(itern):\n",
    "        loss += 1/(i+1) * pow(1-prob, i+1)\n",
    "    return loss"
   ]
  },
  {
   "cell_type": "code",
   "execution_count": 5,
   "id": "021de1b4",
   "metadata": {},
   "outputs": [],
   "source": [
    "def focalloss(prob, gamma):\n",
    "    loss = 0.0\n",
    "    for i in range(itern):\n",
    "        loss += 1/(i+1) * pow(1-prob, gamma+i+1)\n",
    "    return loss"
   ]
  },
  {
   "cell_type": "code",
   "execution_count": 6,
   "id": "1646c367",
   "metadata": {},
   "outputs": [],
   "source": [
    "ploss = PolyLoss(epsilon=0)"
   ]
  },
  {
   "cell_type": "code",
   "execution_count": 7,
   "id": "ecd3531d",
   "metadata": {},
   "outputs": [],
   "source": [
    "pfocal = PolyFocalLoss(epsilon=0, gamma=2, alpha=[0.25, 0, 0])"
   ]
  },
  {
   "cell_type": "code",
   "execution_count": 8,
   "id": "3b1fb088",
   "metadata": {},
   "outputs": [],
   "source": [
    "import torch"
   ]
  },
  {
   "cell_type": "code",
   "execution_count": 9,
   "id": "abd81c6a",
   "metadata": {},
   "outputs": [],
   "source": [
    "a = torch.rand([1, 3])"
   ]
  },
  {
   "cell_type": "code",
   "execution_count": 10,
   "id": "8c5eea88",
   "metadata": {},
   "outputs": [],
   "source": [
    "m = torch.nn.Softmax(dim=1)"
   ]
  },
  {
   "cell_type": "code",
   "execution_count": 11,
   "id": "a451f067",
   "metadata": {},
   "outputs": [],
   "source": [
    "ip = m(a)"
   ]
  },
  {
   "cell_type": "code",
   "execution_count": 12,
   "id": "a4cc215f",
   "metadata": {},
   "outputs": [
    {
     "data": {
      "text/plain": [
       "tensor([[0.5086, 0.2517, 0.2397]])"
      ]
     },
     "execution_count": 12,
     "metadata": {},
     "output_type": "execute_result"
    }
   ],
   "source": [
    "ip"
   ]
  },
  {
   "cell_type": "code",
   "execution_count": 13,
   "id": "45e20564",
   "metadata": {},
   "outputs": [],
   "source": [
    "tgt = torch.Tensor([2]).long()"
   ]
  },
  {
   "cell_type": "code",
   "execution_count": 14,
   "id": "d636d306",
   "metadata": {},
   "outputs": [
    {
     "data": {
      "text/plain": [
       "tensor(1.4283)"
      ]
     },
     "execution_count": 14,
     "metadata": {},
     "output_type": "execute_result"
    }
   ],
   "source": [
    "ploss(a, tgt)"
   ]
  },
  {
   "cell_type": "code",
   "execution_count": 15,
   "id": "975c76b9",
   "metadata": {},
   "outputs": [
    {
     "data": {
      "text/plain": [
       "tensor(0.)"
      ]
     },
     "execution_count": 15,
     "metadata": {},
     "output_type": "execute_result"
    }
   ],
   "source": [
    "pfocal(a, tgt)"
   ]
  },
  {
   "cell_type": "code",
   "execution_count": 16,
   "id": "3fbb4406",
   "metadata": {},
   "outputs": [
    {
     "data": {
      "text/plain": [
       "1.4283041468903026"
      ]
     },
     "execution_count": 16,
     "metadata": {},
     "output_type": "execute_result"
    }
   ],
   "source": [
    "crossentropyloss(ip[0][2])"
   ]
  },
  {
   "cell_type": "code",
   "execution_count": 17,
   "id": "24355f9b",
   "metadata": {},
   "outputs": [
    {
     "data": {
      "text/plain": [
       "0.8256071168755332"
      ]
     },
     "execution_count": 17,
     "metadata": {},
     "output_type": "execute_result"
    }
   ],
   "source": [
    "focalloss(ip[0][2], 2)"
   ]
  },
  {
   "cell_type": "code",
   "execution_count": 18,
   "id": "30e0ec81",
   "metadata": {},
   "outputs": [],
   "source": [
    "import torch.nn as nn\n",
    "import torch.nn.functional as F\n",
    "\n",
    "class FocalLoss(nn.CrossEntropyLoss):\n",
    "    ''' Focal loss for classification tasks on imbalanced datasets '''\n",
    "\n",
    "    def __init__(self, gamma, alpha=None, ignore_index=-100, reduction='none'):\n",
    "        super().__init__(weight=alpha, ignore_index=ignore_index, reduction='none')\n",
    "        self.reduction = reduction\n",
    "        self.gamma = gamma\n",
    "\n",
    "    def forward(self, input_, target):\n",
    "        cross_entropy = super().forward(input_, target)\n",
    "        print(cross_entropy)\n",
    "        # Temporarily mask out ignore index to '0' for valid gather-indices input.\n",
    "        # This won't contribute final loss as the cross_entropy contribution\n",
    "        # for these would be zero.\n",
    "        target = target * (target != self.ignore_index).long()\n",
    "        input_prob = torch.gather(F.softmax(input_, 1), 1, target.unsqueeze(1))\n",
    "        print(input_prob)\n",
    "        loss = torch.pow(1 - input_prob, self.gamma) * cross_entropy\n",
    "        if self.reduction == 'mean':\n",
    "            return torch.mean(loss) \n",
    "        elif self.reduction == 'sum':\n",
    "            return torch.sum(loss)\n",
    "        return loss"
   ]
  },
  {
   "cell_type": "code",
   "execution_count": 19,
   "id": "b7f6001e",
   "metadata": {},
   "outputs": [],
   "source": [
    "fl = FocalLoss(2, reduction='mean')"
   ]
  },
  {
   "cell_type": "code",
   "execution_count": 20,
   "id": "3928f506",
   "metadata": {},
   "outputs": [
    {
     "name": "stdout",
     "output_type": "stream",
     "text": [
      "tensor(1.4283)\n",
      "tensor([[0.2397]])\n"
     ]
    },
    {
     "data": {
      "text/plain": [
       "tensor(0.8256)"
      ]
     },
     "execution_count": 20,
     "metadata": {},
     "output_type": "execute_result"
    }
   ],
   "source": [
    "fl(a, tgt)"
   ]
  },
  {
   "cell_type": "code",
   "execution_count": null,
   "id": "bb6df369",
   "metadata": {},
   "outputs": [],
   "source": []
  }
 ],
 "metadata": {
  "kernelspec": {
   "display_name": "Python 3 (ipykernel)",
   "language": "python",
   "name": "python3"
  },
  "language_info": {
   "codemirror_mode": {
    "name": "ipython",
    "version": 3
   },
   "file_extension": ".py",
   "mimetype": "text/x-python",
   "name": "python",
   "nbconvert_exporter": "python",
   "pygments_lexer": "ipython3",
   "version": "3.9.12"
  }
 },
 "nbformat": 4,
 "nbformat_minor": 5
}
