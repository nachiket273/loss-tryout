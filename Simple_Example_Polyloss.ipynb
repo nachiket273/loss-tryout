{
 "cells": [
  {
   "cell_type": "code",
   "execution_count": 1,
   "id": "513e0058",
   "metadata": {},
   "outputs": [],
   "source": [
    "from math import pow\n",
    "from polyloss import PolyLoss, PolyFocalLoss\n",
    "from polynloss import polynloss, polynfocal\n",
    "import torch\n",
    "import torch.nn as nn\n",
    "import torch.nn.functional as F"
   ]
  },
  {
   "cell_type": "markdown",
   "id": "e6fc7a21",
   "metadata": {},
   "source": [
    "# Initialize variables\n",
    "\n",
    "Initializing the variables required for the loss function:<br>\n",
    "<br>\n",
    "* n : leading n polynomial coefficients to be used from infinite Taylor series.\n",
    "* num_classes: number of classes\n",
    "* ip: the input tensor\n",
    "* tgt: the actual target values tensor"
   ]
  },
  {
   "cell_type": "code",
   "execution_count": 2,
   "id": "acde2a5c",
   "metadata": {},
   "outputs": [
    {
     "data": {
      "text/plain": [
       "<torch._C.Generator at 0x7f85c809aad0>"
      ]
     },
     "execution_count": 2,
     "metadata": {},
     "output_type": "execute_result"
    }
   ],
   "source": [
    "torch.manual_seed(17)"
   ]
  },
  {
   "cell_type": "code",
   "execution_count": 3,
   "id": "2d9508d9",
   "metadata": {},
   "outputs": [],
   "source": [
    "n = 100\n",
    "num_classes = 3\n",
    "ip = torch.rand([10, num_classes])\n",
    "tgt = torch.Tensor([2, 2, 1, 2, 2, 0, 0, 1, 1, 2]).long()"
   ]
  },
  {
   "cell_type": "markdown",
   "id": "76f8437f",
   "metadata": {},
   "source": [
    "Apply softmax to input to get probabilities per class"
   ]
  },
  {
   "cell_type": "code",
   "execution_count": 4,
   "id": "9578b05b",
   "metadata": {},
   "outputs": [],
   "source": [
    "m = nn.Softmax(dim=1)"
   ]
  },
  {
   "cell_type": "code",
   "execution_count": 5,
   "id": "f4a7f03c",
   "metadata": {},
   "outputs": [],
   "source": [
    "probs = m(ip)"
   ]
  },
  {
   "cell_type": "code",
   "execution_count": 6,
   "id": "cefe2436",
   "metadata": {},
   "outputs": [
    {
     "data": {
      "text/plain": [
       "tensor([[0.2784, 0.3079, 0.4137],\n",
       "        [0.2907, 0.2645, 0.4449],\n",
       "        [0.3060, 0.3605, 0.3335],\n",
       "        [0.2922, 0.2934, 0.4144],\n",
       "        [0.3177, 0.3136, 0.3687],\n",
       "        [0.3663, 0.2946, 0.3391],\n",
       "        [0.3892, 0.3760, 0.2348],\n",
       "        [0.3079, 0.4051, 0.2870],\n",
       "        [0.2335, 0.4210, 0.3455],\n",
       "        [0.2601, 0.2435, 0.4964]])"
      ]
     },
     "execution_count": 6,
     "metadata": {},
     "output_type": "execute_result"
    }
   ],
   "source": [
    "probs"
   ]
  },
  {
   "cell_type": "markdown",
   "id": "d3943470",
   "metadata": {},
   "source": [
    "set class weights as inverse of number of occurances. (alpha parameter in focal loss)"
   ]
  },
  {
   "cell_type": "code",
   "execution_count": 7,
   "id": "5a448131",
   "metadata": {},
   "outputs": [],
   "source": [
    "alpha = [0.5, 0.3, 0.2]"
   ]
  },
  {
   "cell_type": "markdown",
   "id": "a29fcfe0",
   "metadata": {},
   "source": [
    "# Polyloss\n",
    "\n",
    "First lets set eps = 0, so that polyloss will be equivalent cross entropy"
   ]
  },
  {
   "cell_type": "code",
   "execution_count": 8,
   "id": "1646c367",
   "metadata": {},
   "outputs": [],
   "source": [
    "ploss = PolyLoss(epsilon=0)"
   ]
  },
  {
   "cell_type": "code",
   "execution_count": 9,
   "id": "c7570c14",
   "metadata": {},
   "outputs": [],
   "source": [
    "pl = ploss(ip, tgt)"
   ]
  },
  {
   "cell_type": "markdown",
   "id": "a7164a25",
   "metadata": {},
   "source": [
    "Now to cross-validate, we'll use cross_entropy loss from pytorch"
   ]
  },
  {
   "cell_type": "code",
   "execution_count": 10,
   "id": "b219d236",
   "metadata": {},
   "outputs": [],
   "source": [
    "ce = F.cross_entropy(ip, tgt)"
   ]
  },
  {
   "cell_type": "code",
   "execution_count": 11,
   "id": "b4af7100",
   "metadata": {},
   "outputs": [
    {
     "name": "stdout",
     "output_type": "stream",
     "text": [
      "Poly-loss with epsilon 0:  tensor(0.9009)\n"
     ]
    }
   ],
   "source": [
    "print(\"Poly-loss with epsilon 0: \", pl)"
   ]
  },
  {
   "cell_type": "code",
   "execution_count": 12,
   "id": "2e441c42",
   "metadata": {},
   "outputs": [
    {
     "name": "stdout",
     "output_type": "stream",
     "text": [
      "Cross entropy loss:  tensor(0.9009)\n"
     ]
    }
   ],
   "source": [
    "print(\"Cross entropy loss: \", pl)"
   ]
  },
  {
   "cell_type": "code",
   "execution_count": 13,
   "id": "1643e9e2",
   "metadata": {},
   "outputs": [],
   "source": [
    "assert pl.item() - ce.item() < 1e-4 , \"cross-entropy loss doesn't match poly-loss with epsilon 0\""
   ]
  },
  {
   "cell_type": "markdown",
   "id": "8c236664",
   "metadata": {},
   "source": [
    "Let's check the loss value with polynloss function."
   ]
  },
  {
   "cell_type": "code",
   "execution_count": 14,
   "id": "50cda454",
   "metadata": {},
   "outputs": [],
   "source": [
    "pnloss = polynloss(probs, tgt, [0], reduction='mean')"
   ]
  },
  {
   "cell_type": "code",
   "execution_count": 15,
   "id": "6893e9d5",
   "metadata": {},
   "outputs": [
    {
     "name": "stdout",
     "output_type": "stream",
     "text": [
      "Poly-N-loss with epsilon 0:  tensor(0.9009)\n"
     ]
    }
   ],
   "source": [
    "print(\"Poly-N-loss with epsilon 0: \", pnloss)"
   ]
  },
  {
   "cell_type": "markdown",
   "id": "08b4c45c",
   "metadata": {},
   "source": [
    "# Poly Focalloss\n",
    "\n",
    "Let's use epsilon 0 with poly focal-loss so that it'll be equivalent to focal loss"
   ]
  },
  {
   "cell_type": "code",
   "execution_count": 16,
   "id": "fd32eb6b",
   "metadata": {},
   "outputs": [],
   "source": [
    "pfocal = PolyFocalLoss(epsilon=0.0, gamma=2.0)"
   ]
  },
  {
   "cell_type": "code",
   "execution_count": 17,
   "id": "dbbce4a0",
   "metadata": {},
   "outputs": [],
   "source": [
    "pfl = pfocal(ip, tgt)"
   ]
  },
  {
   "cell_type": "code",
   "execution_count": 18,
   "id": "17764048",
   "metadata": {},
   "outputs": [],
   "source": [
    "polynf = polynfocal(probs, tgt, [0], gamma=2, reduction='mean')"
   ]
  },
  {
   "cell_type": "code",
   "execution_count": 19,
   "id": "d6c7f7db",
   "metadata": {},
   "outputs": [
    {
     "name": "stdout",
     "output_type": "stream",
     "text": [
      "Poly-focalloss with epsilon 0:  tensor(0.3213)\n"
     ]
    }
   ],
   "source": [
    "print(\"Poly-focalloss with epsilon 0: \", pfl)"
   ]
  },
  {
   "cell_type": "code",
   "execution_count": 20,
   "id": "7da47931",
   "metadata": {},
   "outputs": [
    {
     "name": "stdout",
     "output_type": "stream",
     "text": [
      "Poly-N-focalloss with epsilon 0:  tensor(0.3213)\n"
     ]
    }
   ],
   "source": [
    "print(\"Poly-N-focalloss with epsilon 0: \", polynf)"
   ]
  },
  {
   "cell_type": "markdown",
   "id": "c4684a4f",
   "metadata": {},
   "source": [
    "# Poly-loss with epsilon > 0"
   ]
  },
  {
   "cell_type": "code",
   "execution_count": 21,
   "id": "49538f5d",
   "metadata": {},
   "outputs": [],
   "source": [
    "eps = 0.2"
   ]
  },
  {
   "cell_type": "code",
   "execution_count": 22,
   "id": "1f2dfadf",
   "metadata": {},
   "outputs": [],
   "source": [
    "ploss = PolyLoss(epsilon=0.2, reduction='none')"
   ]
  },
  {
   "cell_type": "code",
   "execution_count": 23,
   "id": "2d497ab5",
   "metadata": {},
   "outputs": [],
   "source": [
    "pl = ploss(ip, tgt)"
   ]
  },
  {
   "cell_type": "code",
   "execution_count": 24,
   "id": "bda991d3",
   "metadata": {},
   "outputs": [],
   "source": [
    "pnloss = polynloss(probs, tgt, [0.2], reduction='none')"
   ]
  },
  {
   "cell_type": "code",
   "execution_count": 27,
   "id": "786fae47",
   "metadata": {},
   "outputs": [
    {
     "name": "stdout",
     "output_type": "stream",
     "text": [
      "Instance-wise Poly-loss with epsilon 0.2:  tensor([1.0000, 0.9210, 1.1482, 0.9982, 1.1239, 1.1310, 1.0658, 1.0226, 0.9809,\n",
      "        0.8011])\n"
     ]
    }
   ],
   "source": [
    "print(\"Instance-wise Poly-loss with epsilon 0.2: \", pl)"
   ]
  },
  {
   "cell_type": "code",
   "execution_count": 28,
   "id": "d8e85723",
   "metadata": {},
   "outputs": [
    {
     "name": "stdout",
     "output_type": "stream",
     "text": [
      "Instance-wise Poly-N-loss with epsilon 0.2:  tensor([1.0000, 0.9210, 1.1482, 0.9982, 1.1239, 1.1310, 1.0658, 1.0226, 0.9809,\n",
      "        0.8011])\n"
     ]
    }
   ],
   "source": [
    "print(\"Instance-wise Poly-N-loss with epsilon 0.2: \", pnloss)"
   ]
  },
  {
   "cell_type": "code",
   "execution_count": 29,
   "id": "8bf67343",
   "metadata": {},
   "outputs": [],
   "source": [
    "ploss = PolyLoss(epsilon=0.2, reduction='sum')"
   ]
  },
  {
   "cell_type": "code",
   "execution_count": 30,
   "id": "7b3228a0",
   "metadata": {},
   "outputs": [],
   "source": [
    "pl = ploss(ip, tgt)"
   ]
  },
  {
   "cell_type": "code",
   "execution_count": 31,
   "id": "4b8076e7",
   "metadata": {},
   "outputs": [],
   "source": [
    "pnloss = polynloss(probs, tgt, [0.2], reduction='sum')"
   ]
  },
  {
   "cell_type": "code",
   "execution_count": 32,
   "id": "dce2ce8a",
   "metadata": {},
   "outputs": [
    {
     "name": "stdout",
     "output_type": "stream",
     "text": [
      "sum of Poly-loss for all instances:  tensor(10.1926)\n"
     ]
    }
   ],
   "source": [
    "print(\"sum of Poly-loss for all instances: \", pl)"
   ]
  },
  {
   "cell_type": "code",
   "execution_count": 33,
   "id": "ecaa7013",
   "metadata": {},
   "outputs": [
    {
     "name": "stdout",
     "output_type": "stream",
     "text": [
      "sum of Poly-N-loss for all instances:  tensor(10.1926)\n"
     ]
    }
   ],
   "source": [
    "print(\"sum of Poly-N-loss for all instances: \", pnloss)"
   ]
  },
  {
   "cell_type": "markdown",
   "id": "7677c1ac",
   "metadata": {},
   "source": [
    "# Poly Focal loss with class weights (alpha)"
   ]
  },
  {
   "cell_type": "code",
   "execution_count": 34,
   "id": "6f17cc16",
   "metadata": {},
   "outputs": [],
   "source": [
    "pfocal = PolyFocalLoss(epsilon=0.2, gamma=2.0, alpha=alpha)"
   ]
  },
  {
   "cell_type": "code",
   "execution_count": 35,
   "id": "8364da31",
   "metadata": {},
   "outputs": [],
   "source": [
    "pfl = pfocal(ip, tgt)"
   ]
  },
  {
   "cell_type": "code",
   "execution_count": 36,
   "id": "da25053c",
   "metadata": {},
   "outputs": [
    {
     "name": "stdout",
     "output_type": "stream",
     "text": [
      "Poly-focalloss with epsilon 0.2:  tensor(0.1098)\n"
     ]
    }
   ],
   "source": [
    "print(\"Poly-focalloss with epsilon 0.2: \", pfl)"
   ]
  },
  {
   "cell_type": "code",
   "execution_count": 37,
   "id": "213cfd39",
   "metadata": {},
   "outputs": [],
   "source": [
    "polynf = polynfocal(probs, tgt, [0.2], gamma=2, reduction='none')"
   ]
  },
  {
   "cell_type": "code",
   "execution_count": 42,
   "id": "32f0519a",
   "metadata": {},
   "outputs": [],
   "source": [
    "lst = list()\n",
    "for loss, t in zip(polynf, tgt):\n",
    "    lst.append(loss.item() * alpha[t])"
   ]
  },
  {
   "cell_type": "code",
   "execution_count": 44,
   "id": "a2232354",
   "metadata": {},
   "outputs": [
    {
     "data": {
      "text/plain": [
       "tensor(0.1098)"
      ]
     },
     "execution_count": 44,
     "metadata": {},
     "output_type": "execute_result"
    }
   ],
   "source": [
    "torch.Tensor(lst).mean()"
   ]
  }
 ],
 "metadata": {
  "kernelspec": {
   "display_name": "Python 3",
   "language": "python",
   "name": "python3"
  },
  "language_info": {
   "codemirror_mode": {
    "name": "ipython",
    "version": 3
   },
   "file_extension": ".py",
   "mimetype": "text/x-python",
   "name": "python",
   "nbconvert_exporter": "python",
   "pygments_lexer": "ipython3",
   "version": "3.9.12"
  }
 },
 "nbformat": 4,
 "nbformat_minor": 5
}
